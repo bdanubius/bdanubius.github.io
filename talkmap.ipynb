{
 "cells": [
  {
   "cell_type": "markdown",
   "metadata": {},
   "source": [
    "# Leaflet cluster map of talk locations\n",
    "\n",
    "Run this from the _talks/ directory, which contains .md files of all your talks. This scrapes the location YAML field from each .md file, geolocates it with geopy/Nominatim, and uses the getorg library to output data, HTML, and Javascript for a standalone cluster map."
   ]
  },
  {
   "cell_type": "code",
   "execution_count": 3,
   "metadata": {},
   "outputs": [],
   "source": [
    "!cd _talks/"
   ]
  },
  {
   "cell_type": "code",
   "execution_count": 4,
   "metadata": {},
   "outputs": [
    {
     "name": "stdout",
     "output_type": "stream",
     "text": [
      "CHANGELOG.md       _config.yml        \u001b[34m_publications\u001b[m\u001b[m      \u001b[34mimages\u001b[m\u001b[m\r\n",
      "CONTRIBUTING.md    \u001b[34m_data\u001b[m\u001b[m              \u001b[34m_sass\u001b[m\u001b[m              \u001b[34mmarkdown_generator\u001b[m\u001b[m\r\n",
      "Gemfile            \u001b[34m_drafts\u001b[m\u001b[m            \u001b[34m_talks\u001b[m\u001b[m             package.json\r\n",
      "LICENSE            \u001b[34m_includes\u001b[m\u001b[m          \u001b[34m_teaching\u001b[m\u001b[m          \u001b[34mtalkmap\u001b[m\u001b[m\r\n",
      "README.md          \u001b[34m_layouts\u001b[m\u001b[m           \u001b[34massets\u001b[m\u001b[m             talkmap.ipynb\r\n",
      "_config.dev.yml    \u001b[34m_pages\u001b[m\u001b[m             \u001b[34mfiles\u001b[m\u001b[m              talkmap.py\r\n"
     ]
    }
   ],
   "source": [
    "!ls"
   ]
  },
  {
   "cell_type": "code",
   "execution_count": 2,
   "metadata": {},
   "outputs": [
    {
     "name": "stdout",
     "output_type": "stream",
     "text": [
      "Requirement already up-to-date: getorg in /Users/barabasi/anaconda3/lib/python3.7/site-packages (0.3.1)\n",
      "Requirement already satisfied, skipping upgrade: geopy in /Users/barabasi/anaconda3/lib/python3.7/site-packages (from getorg) (1.20.0)\n",
      "Requirement already satisfied, skipping upgrade: pygithub in /Users/barabasi/anaconda3/lib/python3.7/site-packages (from getorg) (1.44.1)\n",
      "Requirement already satisfied, skipping upgrade: retrying in /Users/barabasi/anaconda3/lib/python3.7/site-packages (from getorg) (1.3.3)\n",
      "Requirement already satisfied, skipping upgrade: geographiclib<2,>=1.49 in /Users/barabasi/anaconda3/lib/python3.7/site-packages (from geopy->getorg) (1.50)\n",
      "Requirement already satisfied, skipping upgrade: requests>=2.14.0 in /Users/barabasi/anaconda3/lib/python3.7/site-packages (from pygithub->getorg) (2.22.0)\n",
      "Requirement already satisfied, skipping upgrade: pyjwt in /Users/barabasi/anaconda3/lib/python3.7/site-packages (from pygithub->getorg) (1.7.1)\n",
      "Requirement already satisfied, skipping upgrade: six in /Users/barabasi/anaconda3/lib/python3.7/site-packages (from pygithub->getorg) (1.12.0)\n",
      "Requirement already satisfied, skipping upgrade: deprecated in /Users/barabasi/anaconda3/lib/python3.7/site-packages (from pygithub->getorg) (1.2.6)\n",
      "Requirement already satisfied, skipping upgrade: idna<2.9,>=2.5 in /Users/barabasi/anaconda3/lib/python3.7/site-packages (from requests>=2.14.0->pygithub->getorg) (2.8)\n",
      "Requirement already satisfied, skipping upgrade: chardet<3.1.0,>=3.0.2 in /Users/barabasi/anaconda3/lib/python3.7/site-packages (from requests>=2.14.0->pygithub->getorg) (3.0.4)\n",
      "Requirement already satisfied, skipping upgrade: urllib3!=1.25.0,!=1.25.1,<1.26,>=1.21.1 in /Users/barabasi/anaconda3/lib/python3.7/site-packages (from requests>=2.14.0->pygithub->getorg) (1.24.2)\n",
      "Requirement already satisfied, skipping upgrade: certifi>=2017.4.17 in /Users/barabasi/anaconda3/lib/python3.7/site-packages (from requests>=2.14.0->pygithub->getorg) (2019.6.16)\n",
      "Requirement already satisfied, skipping upgrade: wrapt<2,>=1.10 in /Users/barabasi/anaconda3/lib/python3.7/site-packages (from deprecated->pygithub->getorg) (1.11.2)\n"
     ]
    }
   ],
   "source": [
    "!pip install getorg --upgrade\n",
    "import glob\n",
    "import getorg\n",
    "from geopy import Nominatim"
   ]
  },
  {
   "cell_type": "code",
   "execution_count": 34,
   "metadata": {},
   "outputs": [],
   "source": [
    "g = glob.glob(\"_talks/*.md\")"
   ]
  },
  {
   "cell_type": "code",
   "execution_count": 36,
   "metadata": {},
   "outputs": [
    {
     "data": {
      "text/plain": [
       "['_talks/DYNASET_2019.md']"
      ]
     },
     "execution_count": 36,
     "metadata": {},
     "output_type": "execute_result"
    }
   ],
   "source": [
    "g"
   ]
  },
  {
   "cell_type": "code",
   "execution_count": 48,
   "metadata": {},
   "outputs": [
    {
     "name": "stderr",
     "output_type": "stream",
     "text": [
      "/Users/barabasi/anaconda3/lib/python3.7/site-packages/ipykernel_launcher.py:1: DeprecationWarning: Using Nominatim with the default \"geopy/1.20.0\" `user_agent` is strongly discouraged, as it violates Nominatim's ToS https://operations.osmfoundation.org/policies/nominatim/ and may possibly cause 403 and 429 HTTP errors. Please specify a custom `user_agent` with `Nominatim(user_agent=\"my-application\")` or by overriding the default `user_agent`: `geopy.geocoders.options.default_user_agent = \"my-application\"`. In geopy 2.0 this will become an exception.\n",
      "  \"\"\"Entry point for launching an IPython kernel.\n"
     ]
    }
   ],
   "source": [
    "geocoder = Nominatim()\n",
    "location_dict = {}\n",
    "location = \"\"\n",
    "permalink = \"\"\n",
    "title = \"\""
   ]
  },
  {
   "cell_type": "code",
   "execution_count": 8,
   "metadata": {},
   "outputs": [
    {
     "name": "stdout",
     "output_type": "stream",
     "text": [
      "Budapest, Hungary \n",
      " Budapest, Közép-Magyarország, Magyarország\n"
     ]
    }
   ],
   "source": [
    "for file in g:\n",
    "    with open(file, 'r') as f:\n",
    "        lines = f.read()\n",
    "        if lines.find('location: \"') > 1:\n",
    "            loc_start = lines.find('location: \"') + 11\n",
    "            lines_trim = lines[loc_start:]\n",
    "            loc_end = lines_trim.find('\"')\n",
    "            location = lines_trim[:loc_end]\n",
    "                            \n",
    "           \n",
    "        location_dict[location] = geocoder.geocode(location)\n",
    "        print(location, \"\\n\", location_dict[location])\n"
   ]
  },
  {
   "cell_type": "code",
   "execution_count": 49,
   "metadata": {
    "scrolled": true
   },
   "outputs": [
    {
     "name": "stdout",
     "output_type": "stream",
     "text": [
      "Budapest, Hungary \n",
      " Budapest, Közép-Magyarország, Magyarország\n",
      "Burlington, VT \n",
      " Burlington, Chittenden County, Vermont, United States of America\n",
      "Atlanta, Georgia \n",
      " Atlanta, Fulton County, Georgia, United States\n",
      "Boston, MA \n",
      " Boston, Suffolk County, Massachusetts, United States of America\n",
      "Gloucester, MA \n",
      " Gloucester, Essex County, Massachusetts, United States of America\n",
      "Ashburn, Virginia \n",
      " Ashburn, Loudoun County, Virginia, United States\n",
      "Cambridge, MA \n",
      " Cambridge, Middlesex County, Massachusetts, United States of America\n",
      "Notre Dame, IN \n",
      " University of Notre Dame du Lac, Foster Street, South Bend, Saint Joseph County, Indiana, 46556, United States\n",
      "New Orleans, LA \n",
      " New Orleans, Orleans Parish, Louisiana, United States\n",
      "Bethesda, MD \n",
      " Bethesda, Montgomery County, Maryland, 22814, United States\n",
      "Lisbon, Portugal \n",
      " Lisboa, Grande Lisboa, Área Metropolitana de Lisboa, 1100-148, Portugal\n",
      "Washington, DC \n",
      " Washington, District of Columbia, 20500, United States of America\n",
      "Leesburg, VA \n",
      " Leesburg, Loudoun County, Virginia, United States\n",
      "Salt Lake City, UT \n",
      " Salt Lake City, Salt Lake County, Utah, United States of America\n",
      "Seoul, South Korea \n",
      " 서울, 대한민국\n"
     ]
    }
   ],
   "source": [
    "filepath = g[0]\n",
    "with open(filepath) as fp:\n",
    "    lines = fp.readline()\n",
    "    cnt = 1\n",
    "\n",
    "    while lines: \n",
    "        if lines.find('location: \"') ==0:\n",
    "            loc_start = lines.find('location: \"') + 11\n",
    "            lines_trim = lines[loc_start:]\n",
    "            loc_end = lines_trim.find('\"')\n",
    "            location = lines_trim[:loc_end]\n",
    "            cnt += 1                 \n",
    "           \n",
    "            location_dict[location] = geocoder.geocode(location)\n",
    "            print(location, \"\\n\", location_dict[location])\n",
    "        lines = fp.readline()"
   ]
  },
  {
   "cell_type": "code",
   "execution_count": 26,
   "metadata": {},
   "outputs": [
    {
     "name": "stdout",
     "output_type": "stream",
     "text": [
      "Line 1: ---\n",
      "Line 2: title: \"Bicliques in the Brain: Genetically Driven Wiring of the Connectome\"\n",
      "Line 3: collection: talks\n",
      "Line 4: type: \"Talk\"\n",
      "Line 5: permalink: /talks/DYNASET_2019\n",
      "Line 6: venue: \"DYNASNET Workshop\"\n",
      "Line 7: date: 2019-09-23\n",
      "Line 8: ---\n",
      "Line 9: \n",
      "Line 10: location: \"Budapest, Hungary\"\n",
      "Line 11: location: \"Burlington, VT\"\n",
      "Line 12: location: \"Atlanta, Georgia\"\n",
      "Line 13: location: \"Boston, MA\"\n",
      "Line 14: location: \"Gloucester, MA\"\n",
      "Line 15: location: \"Ashburn, Virginia\"\n",
      "Line 16: location: \"Cambridge, MA\"\n",
      "Line 17: location: \"Notre Dame, IN\"\n",
      "Line 18: location: \"New Orleans, LA\"\n",
      "Line 19: location: \"Bethesda, MD\"\n",
      "Line 20: location: \"Lisbon, Portugal\"\n",
      "Line 21: location: \"Washington, DC\"\n",
      "Line 22: location: \"Leesburg, VA\"\n",
      "Line 23: location: \"Salt Lake City, UT\"\n",
      "Line 24: location: \"Seoul, South Korea\"\n"
     ]
    }
   ],
   "source": [
    "filepath = g[0]\n",
    "with open(filepath) as fp:\n",
    "    line = fp.readline()\n",
    "    cnt = 1\n",
    "    while line:\n",
    "        print(\"Line {}: {}\".format(cnt, line.strip()))\n",
    "        line = fp.readline()\n",
    "        cnt += 1"
   ]
  },
  {
   "cell_type": "code",
   "execution_count": 50,
   "metadata": {},
   "outputs": [
    {
     "data": {
      "text/plain": [
       "'Written map to talkmap/'"
      ]
     },
     "execution_count": 50,
     "metadata": {},
     "output_type": "execute_result"
    }
   ],
   "source": [
    "m = getorg.orgmap.create_map_obj()\n",
    "getorg.orgmap.output_html_cluster_map(location_dict, folder_name=\"talkmap\", hashed_usernames=False)"
   ]
  },
  {
   "cell_type": "code",
   "execution_count": 9,
   "metadata": {},
   "outputs": [
    {
     "data": {
      "text/plain": [
       "'---\\ntitle: \"Bicliques in the Brain: Genetically Driven Wiring of the Connectome\"\\ncollection: talks\\ntype: \"Talk\"\\npermalink: /talks/DYNASET_2019\\nvenue: \"DYNASNET Workshop\"\\ndate: 2019-09-23\\n---\\n\\nlocation: \"Budapest, Hungary\"\\nlocation: \"Burlington, VT\"\\nlocation: \"Atlanta, Georgia\"\\nlocation: \"Boston, MA\"\\nlocation: \"Gloucester, MA\"\\nlocation: \"Ashburn, Virginia\"\\nlocation: \"Cambridge, MA\"\\nlocation: \"Notre Dame, IN\"\\nlocation: \"New Orleans, LA\"\\nlocation: \"Bethesda, MD\"\\nlocation: \"Lisbon, Portugal\"\\nlocation: \"Washington, DC\"\\nlocation: \"Leesburg, VA\"\\nlocation: \"Salt Lake City, UT\"\\nlocation: \"Seoul, South Korea\"'"
      ]
     },
     "execution_count": 9,
     "metadata": {},
     "output_type": "execute_result"
    }
   ],
   "source": [
    "lines"
   ]
  },
  {
   "cell_type": "code",
   "execution_count": null,
   "metadata": {},
   "outputs": [],
   "source": []
  }
 ],
 "metadata": {
  "anaconda-cloud": {},
  "kernelspec": {
   "display_name": "Python 3",
   "language": "python",
   "name": "python3"
  },
  "language_info": {
   "codemirror_mode": {
    "name": "ipython",
    "version": 3
   },
   "file_extension": ".py",
   "mimetype": "text/x-python",
   "name": "python",
   "nbconvert_exporter": "python",
   "pygments_lexer": "ipython3",
   "version": "3.7.3"
  }
 },
 "nbformat": 4,
 "nbformat_minor": 1
}
